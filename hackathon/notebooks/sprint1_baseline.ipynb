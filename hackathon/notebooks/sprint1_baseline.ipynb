{
 "cells": [
  {
   "cell_type": "markdown",
   "id": "693ee9a8",
   "metadata": {},
   "source": [
    "# Sprint 1 – Baseline Classifier & Sentiment Notebook\n",
    "\n",
    "This notebook runs Sprint 1 tasks:\n",
    "- Load sample tickets\n",
    "- Preprocess with `TextProcessor`\n",
    "- Run rule-based classifier + improved classifier\n",
    "- Run sentiment analysis\n",
    "- Visualize confusion matrix & sentiment distribution"
   ]
  },
  {
   "cell_type": "code",
   "execution_count": 7,
   "id": "c4ef3fbb",
   "metadata": {},
   "outputs": [
    {
     "name": "stdout",
     "output_type": "stream",
     "text": [
      "Project root: /Users/user/Downloads/hackathon\n",
      "App path added: /Users/user/Downloads/hackathon/app\n"
     ]
    }
   ],
   "source": [
    "import os, sys, json\n",
    "import pandas as pd\n",
    "import matplotlib.pyplot as plt\n",
    "import seaborn as sns\n",
    "from pathlib import Path\n",
    "\n",
    "# Get project root (assuming notebook is in notebooks/)\n",
    "ROOT = Path(os.getcwd()).resolve().parent\n",
    "APP_PATH = ROOT / \"app\"\n",
    "\n",
    "if str(APP_PATH) not in sys.path:\n",
    "    sys.path.append(str(APP_PATH))\n",
    "\n",
    "print(\"Project root:\", ROOT)\n",
    "print(\"App path added:\", APP_PATH)"
   ]
  },
  {
   "cell_type": "code",
   "execution_count": 17,
   "id": "5728177d",
   "metadata": {},
   "outputs": [],
   "source": [
    "from preprocessing.text_processor import text_processor\n",
    "from models.rule_based_classifier import RuleBasedClassifier\n",
    "from models.improved_classifier import ImprovedClassifier\n",
    "from models.sentiment_analyzer import SentimentAnalyzer\n",
    "\n",
    "rule_clf = RuleBasedClassifier()\n",
    "improved_clf = ImprovedClassifier(training_data_path=\"../data/expanded_tickets.json\")\n",
    "sentiment = SentimentAnalyzer()"
   ]
  },
  {
   "cell_type": "code",
   "execution_count": 19,
   "id": "f0d7b659",
   "metadata": {},
   "outputs": [
    {
     "data": {
      "text/html": [
       "<div>\n",
       "<style scoped>\n",
       "    .dataframe tbody tr th:only-of-type {\n",
       "        vertical-align: middle;\n",
       "    }\n",
       "\n",
       "    .dataframe tbody tr th {\n",
       "        vertical-align: top;\n",
       "    }\n",
       "\n",
       "    .dataframe thead th {\n",
       "        text-align: right;\n",
       "    }\n",
       "</style>\n",
       "<table border=\"1\" class=\"dataframe\">\n",
       "  <thead>\n",
       "    <tr style=\"text-align: right;\">\n",
       "      <th></th>\n",
       "      <th>id</th>\n",
       "      <th>text</th>\n",
       "      <th>category</th>\n",
       "      <th>sentiment</th>\n",
       "    </tr>\n",
       "  </thead>\n",
       "  <tbody>\n",
       "    <tr>\n",
       "      <th>0</th>\n",
       "      <td>1</td>\n",
       "      <td>I cannot access my account. It says my passwor...</td>\n",
       "      <td>account</td>\n",
       "      <td>negative</td>\n",
       "    </tr>\n",
       "    <tr>\n",
       "      <th>1</th>\n",
       "      <td>2</td>\n",
       "      <td>I was charged $50 extra on my monthly bill. Th...</td>\n",
       "      <td>billing</td>\n",
       "      <td>negative</td>\n",
       "    </tr>\n",
       "    <tr>\n",
       "      <th>2</th>\n",
       "      <td>3</td>\n",
       "      <td>The app keeps crashing when I try to upload fi...</td>\n",
       "      <td>bug</td>\n",
       "      <td>negative</td>\n",
       "    </tr>\n",
       "    <tr>\n",
       "      <th>3</th>\n",
       "      <td>4</td>\n",
       "      <td>I would like to request a new feature for dark...</td>\n",
       "      <td>feature</td>\n",
       "      <td>positive</td>\n",
       "    </tr>\n",
       "    <tr>\n",
       "      <th>4</th>\n",
       "      <td>5</td>\n",
       "      <td>How do I set up two-factor authentication?</td>\n",
       "      <td>technical</td>\n",
       "      <td>neutral</td>\n",
       "    </tr>\n",
       "  </tbody>\n",
       "</table>\n",
       "</div>"
      ],
      "text/plain": [
       "   id                                               text   category sentiment\n",
       "0   1  I cannot access my account. It says my passwor...    account  negative\n",
       "1   2  I was charged $50 extra on my monthly bill. Th...    billing  negative\n",
       "2   3  The app keeps crashing when I try to upload fi...        bug  negative\n",
       "3   4  I would like to request a new feature for dark...    feature  positive\n",
       "4   5         How do I set up two-factor authentication?  technical   neutral"
      ]
     },
     "execution_count": 19,
     "metadata": {},
     "output_type": "execute_result"
    }
   ],
   "source": [
    "# Load dataset\n",
    "candidates = [ROOT/'data/expanded_tickets.json', ROOT/'notebooks/expanded_tickets.json']\n",
    "for path in candidates:\n",
    "    if path.exists():\n",
    "        with open(path) as f:\n",
    "            data = json.load(f)\n",
    "        df = pd.DataFrame(data)\n",
    "        break\n",
    "else:\n",
    "    df = pd.DataFrame([\n",
    "        {\"id\": 1, \"text\": \"I cannot access my account.\", \"category\": \"account\", \"sentiment\": \"negative\"},\n",
    "        {\"id\": 2, \"text\": \"Thank you for fixing the issue.\", \"category\": \"general\", \"sentiment\": \"positive\"},\n",
    "        {\"id\": 3, \"text\": \"Billing error on my invoice.\", \"category\": \"billing\", \"sentiment\": \"negative\"}\n",
    "    ])\n",
    "df.head()"
   ]
  },
  {
   "cell_type": "code",
   "execution_count": 21,
   "id": "acc4d68a",
   "metadata": {},
   "outputs": [
    {
     "data": {
      "text/html": [
       "<div>\n",
       "<style scoped>\n",
       "    .dataframe tbody tr th:only-of-type {\n",
       "        vertical-align: middle;\n",
       "    }\n",
       "\n",
       "    .dataframe tbody tr th {\n",
       "        vertical-align: top;\n",
       "    }\n",
       "\n",
       "    .dataframe thead th {\n",
       "        text-align: right;\n",
       "    }\n",
       "</style>\n",
       "<table border=\"1\" class=\"dataframe\">\n",
       "  <thead>\n",
       "    <tr style=\"text-align: right;\">\n",
       "      <th></th>\n",
       "      <th>id</th>\n",
       "      <th>text</th>\n",
       "      <th>category</th>\n",
       "      <th>sentiment</th>\n",
       "      <th>clean_text</th>\n",
       "    </tr>\n",
       "  </thead>\n",
       "  <tbody>\n",
       "    <tr>\n",
       "      <th>0</th>\n",
       "      <td>1</td>\n",
       "      <td>I cannot access my account. It says my passwor...</td>\n",
       "      <td>account</td>\n",
       "      <td>negative</td>\n",
       "      <td>cannot access account. say password incorrect.</td>\n",
       "    </tr>\n",
       "    <tr>\n",
       "      <th>1</th>\n",
       "      <td>2</td>\n",
       "      <td>I was charged $50 extra on my monthly bill. Th...</td>\n",
       "      <td>billing</td>\n",
       "      <td>negative</td>\n",
       "      <td>charged 50 extra monthly bill. incorrect.</td>\n",
       "    </tr>\n",
       "    <tr>\n",
       "      <th>2</th>\n",
       "      <td>3</td>\n",
       "      <td>The app keeps crashing when I try to upload fi...</td>\n",
       "      <td>bug</td>\n",
       "      <td>negative</td>\n",
       "      <td>app keep crashing try upload files.</td>\n",
       "    </tr>\n",
       "    <tr>\n",
       "      <th>3</th>\n",
       "      <td>4</td>\n",
       "      <td>I would like to request a new feature for dark...</td>\n",
       "      <td>feature</td>\n",
       "      <td>positive</td>\n",
       "      <td>would like request new feature dark mode.</td>\n",
       "    </tr>\n",
       "    <tr>\n",
       "      <th>4</th>\n",
       "      <td>5</td>\n",
       "      <td>How do I set up two-factor authentication?</td>\n",
       "      <td>technical</td>\n",
       "      <td>neutral</td>\n",
       "      <td>set two-factor authentication?</td>\n",
       "    </tr>\n",
       "  </tbody>\n",
       "</table>\n",
       "</div>"
      ],
      "text/plain": [
       "   id                                               text   category sentiment  \\\n",
       "0   1  I cannot access my account. It says my passwor...    account  negative   \n",
       "1   2  I was charged $50 extra on my monthly bill. Th...    billing  negative   \n",
       "2   3  The app keeps crashing when I try to upload fi...        bug  negative   \n",
       "3   4  I would like to request a new feature for dark...    feature  positive   \n",
       "4   5         How do I set up two-factor authentication?  technical   neutral   \n",
       "\n",
       "                                       clean_text  \n",
       "0  cannot access account. say password incorrect.  \n",
       "1       charged 50 extra monthly bill. incorrect.  \n",
       "2             app keep crashing try upload files.  \n",
       "3       would like request new feature dark mode.  \n",
       "4                  set two-factor authentication?  "
      ]
     },
     "execution_count": 21,
     "metadata": {},
     "output_type": "execute_result"
    }
   ],
   "source": [
    "# Preprocess\n",
    "df['clean_text'] = df['text'].apply(text_processor.preprocess)\n",
    "df.head()"
   ]
  },
  {
   "cell_type": "code",
   "execution_count": 25,
   "id": "a512d365",
   "metadata": {},
   "outputs": [],
   "source": [
    "# Rule-based classifier\n",
    "df['rule_pred'] = df['clean_text'].apply(lambda x: rule_clf.classify(x)[0])\n",
    "\n",
    "# Improved classifier\n",
    "df['improved_pred'] = df['clean_text'].apply(lambda x: improved_clf.classify(x)[0])\n",
    "\n",
    "# Sentiment analyzer (your SentimentAnalyzer has analyze_sentiment)\n",
    "df['sentiment_pred'] = df['clean_text'].apply(lambda x: sentiment.analyze_sentiment(x)['sentiment'])"
   ]
  },
  {
   "cell_type": "code",
   "execution_count": 27,
   "id": "af2b915e",
   "metadata": {},
   "outputs": [
    {
     "data": {
      "image/png": "[encoded data removed]",
      "text/plain": [
       "<Figure size 640x480 with 2 Axes>"
      ]
     },
     "metadata": {},
     "output_type": "display_data"
    }
   ],
   "source": [
    "from sklearn.metrics import confusion_matrix, ConfusionMatrixDisplay\n",
    "\n",
    "cm = confusion_matrix(df['category'], df['improved_pred'], labels=df['category'].unique())\n",
    "disp = ConfusionMatrixDisplay(confusion_matrix=cm, display_labels=df['category'].unique())\n",
    "disp.plot(cmap='Blues')\n",
    "plt.title('Confusion Matrix – Improved Classifier')\n",
    "plt.show()"
   ]
  },
  {
   "cell_type": "code",
   "execution_count": 29,
   "id": "f9ec4b26",
   "metadata": {},
   "outputs": [
    {
     "data": {
      "image/png": "[encoded data removed]",
      "text/plain": [
       "<Figure size 640x480 with 1 Axes>"
      ]
     },
     "metadata": {},
     "output_type": "display_data"
    }
   ],
   "source": [
    "# Sentiment distribution\n",
    "sns.countplot(x='sentiment_pred', data=df)\n",
    "plt.title('Predicted Sentiment Distribution')\n",
    "plt.show()"
   ]
  },
  {
   "cell_type": "code",
   "execution_count": null,
   "id": "744eac1c-1213-4665-9be1-31557dc9bd9a",
   "metadata": {},
   "outputs": [],
   "source": []
  }
 ],
 "metadata": {
  "kernelspec": {
   "display_name": "Python 3 (ipykernel)",
   "language": "python",
   "name": "python3"
  },
  "language_info": {
   "codemirror_mode": {
    "name": "ipython",
    "version": 3
   },
   "file_extension": ".py",
   "mimetype": "text/x-python",
   "name": "python",
   "nbconvert_exporter": "python",
   "pygments_lexer": "ipython3",
   "version": "3.12.4"
  }
 },
 "nbformat": 4,
 "nbformat_minor": 5
}
